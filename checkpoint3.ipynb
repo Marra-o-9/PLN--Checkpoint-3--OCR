{
 "cells": [
  {
   "attachments": {},
   "cell_type": "markdown",
   "metadata": {},
   "source": [
    "# Checkpoint 3\n",
    "\n",
    "Integrantes:<br>\n",
    "<br>\n",
    "Henrique Marra Barbosa - RM97672<br>\n",
    "Arthur Hieda Cunha - RM551882<br>\n",
    "Kauã Tateishi dos Santos - RM551632<br>\n",
    "Lucas Bueno Taets Gustavo - RM552162<br>"
   ]
  },
  {
   "attachments": {},
   "cell_type": "markdown",
   "metadata": {},
   "source": [
    "> Importando e convertendo"
   ]
  },
  {
   "attachments": {},
   "cell_type": "markdown",
   "metadata": {},
   "source": [
    "```\n",
    "pip install opencv-python\n",
    "pip install pytesseract\n",
    "```"
   ]
  },
  {
   "cell_type": "code",
   "execution_count": 239,
   "metadata": {},
   "outputs": [],
   "source": [
    "# Importar bibliotecas\n",
    "import cv2\n",
    "import numpy as np\n",
    "import pytesseract\n",
    "import json\n",
    "from PIL import Image"
   ]
  },
  {
   "cell_type": "code",
   "execution_count": 240,
   "metadata": {},
   "outputs": [
    {
     "data": {
      "text/plain": [
       "True"
      ]
     },
     "execution_count": 240,
     "metadata": {},
     "output_type": "execute_result"
    }
   ],
   "source": [
    "# Carregar uma imagem\n",
    "imagem = cv2.imread(\"cnh.webp\")\n",
    "\n",
    "# Exibir a imagem\n",
    "cv2.imshow(\"Image Title\", imagem)\n",
    "cv2.waitKey(0)  # Espera até que uma tecla seja pressionada\n",
    "cv2.destroyAllWindows()  # Fecha a janela\n",
    "\n",
    "# Salvar a imagem\n",
    "cv2.imwrite(\"cnh.png\", imagem)"
   ]
  },
  {
   "attachments": {},
   "cell_type": "markdown",
   "metadata": {},
   "source": [
    "## Extraindo Imagens"
   ]
  },
  {
   "cell_type": "code",
   "execution_count": 241,
   "metadata": {},
   "outputs": [],
   "source": [
    "# Carregar a imagem\n",
    "imagem = cv2.imread(\"cnh.png\")"
   ]
  },
  {
   "attachments": {},
   "cell_type": "markdown",
   "metadata": {},
   "source": [
    "> Imagem do Rosto"
   ]
  },
  {
   "cell_type": "code",
   "execution_count": 242,
   "metadata": {},
   "outputs": [],
   "source": [
    "# Definir coordenadas e dimensões da ROI\n",
    "x = 170  # posição x do canto superior esquerdo da ROI\n",
    "y = 190  # posição y do canto superior esquerdo da ROI\n",
    "w = 200  # largura da ROI\n",
    "h = 250  # altura da ROI\n",
    "\n",
    "# Cortar a região de interesse\n",
    "roi = imagem[y:y+h, x:x+w]\n",
    "\n",
    "# Mostrar a imagem segmentada e recortada\n",
    "cv2.imshow(\"Região de Interesse\", roi)\n",
    "cv2.imwrite(\"./informacoes/rosto.png\", roi)\n",
    "cv2.waitKey(0)\n",
    "cv2.destroyAllWindows()\n",
    "\n",
    "# Desenhar um retângulo na imagem original\n",
    "cv2.rectangle(imagem, (x, y), (x + w, y + h), (255, 0, 255), 5)  # Verde, espessura 5\n",
    "\n",
    "# Mostrar a imagem original com a ROI destacada\n",
    "cv2.imshow(\"Imagem Original com ROI\", imagem)\n",
    "cv2.waitKey(0)\n",
    "cv2.destroyAllWindows()"
   ]
  },
  {
   "attachments": {},
   "cell_type": "markdown",
   "metadata": {},
   "source": [
    "> Carregar imagem em Preto e Branco"
   ]
  },
  {
   "cell_type": "code",
   "execution_count": 243,
   "metadata": {},
   "outputs": [],
   "source": [
    "# Carregar a imagem\n",
    "imagem = cv2.imread(\"cnh.png\", 0)  # 0 para carregar em escala de cinza\n",
    "\n",
    "# Aplicar a limiarização\n",
    "ret, thresholded = cv2.threshold(imagem, 80, 255, cv2.THRESH_BINARY)\n",
    "\n",
    "# Suavização para remover ruído\n",
    "imagem_borrada = cv2.GaussianBlur(thresholded, (3, 3), 0)"
   ]
  },
  {
   "attachments": {},
   "cell_type": "markdown",
   "metadata": {},
   "source": [
    "> Assinatura"
   ]
  },
  {
   "cell_type": "code",
   "execution_count": 244,
   "metadata": {},
   "outputs": [],
   "source": [
    "# Definir coordenadas e dimensões da ROI\n",
    "x = 270  # posição x do canto superior esquerdo da ROI\n",
    "y = 750  # posição y do canto superior esquerdo da ROI\n",
    "w = 180  # largura da ROI\n",
    "h = 36  # altura da ROI\n",
    "\n",
    "# Cortar a região de interesse\n",
    "roi = imagem[y:y+h, x:x+w]\n",
    "\n",
    "# Mostrar a imagem segmentada e recortada\n",
    "cv2.imshow(\"Assinatura\", roi)\n",
    "cv2.imwrite(\"./informacoes/assinatura.png\", roi)\n",
    "cv2.waitKey(0)\n",
    "cv2.destroyAllWindows()"
   ]
  },
  {
   "cell_type": "code",
   "execution_count": 245,
   "metadata": {},
   "outputs": [],
   "source": [
    "# Caminho para o executável pytesseract\n",
    "pytesseract.pytesseract.tesseract_cmd = r\"C:\\Tesseract\\tesseract.exe\""
   ]
  },
  {
   "cell_type": "code",
   "execution_count": 246,
   "metadata": {},
   "outputs": [
    {
     "name": "stdout",
     "output_type": "stream",
     "text": [
      "Lince da Sila\n",
      "\n"
     ]
    }
   ],
   "source": [
    "# Carrega a imagem\n",
    "imagem_assinatura = Image.open(\"./informacoes/assinatura.png\")\n",
    "\n",
    "# Usa o pytesseract para realizar OCR na imagem\n",
    "assinatura = pytesseract.image_to_string(imagem_assinatura)\n",
    "\n",
    "# Imprime o texto extraído\n",
    "print(assinatura)"
   ]
  },
  {
   "attachments": {},
   "cell_type": "markdown",
   "metadata": {},
   "source": [
    "> Canny Edges"
   ]
  },
  {
   "cell_type": "code",
   "execution_count": 247,
   "metadata": {},
   "outputs": [],
   "source": [
    "# Carregar a imagem\n",
    "imagem_assinatura = cv2.imread(\"./informacoes/assinatura.png\", 0)  # 0 para carregar em escala de cinza\n",
    "\n",
    "# Aplicar o algoritmo Canny\n",
    "canny_edges = cv2.Canny(imagem_assinatura, 100, 200)\n",
    "\n",
    "# Mostrar a imagem resultante\n",
    "cv2.imshow(\"Canny Edges\", canny_edges)\n",
    "cv2.imwrite(\"./informacoes/canny_edges.png\", canny_edges)\n",
    "cv2.waitKey(0)\n",
    "cv2.destroyAllWindows()"
   ]
  },
  {
   "attachments": {},
   "cell_type": "markdown",
   "metadata": {},
   "source": [
    "## Extraindo Informações"
   ]
  },
  {
   "attachments": {},
   "cell_type": "markdown",
   "metadata": {},
   "source": [
    "Extrai o texto de uma região específica de um documento.\n",
    "\n",
    "    Args:\n",
    "    documento (str): Nome do arquivo para salvar a imagem da ROI.\n",
    "    x (int): Coordenada x do canto superior esquerdo da ROI.\n",
    "    y (int): Coordenada y do canto superior esquerdo da ROI.\n",
    "    w (int): Largura da ROI.\n",
    "    h (int): Altura da ROI.\n",
    "\n",
    "    Returns:\n",
    "    str: Texto extraído da ROI."
   ]
  },
  {
   "cell_type": "code",
   "execution_count": 248,
   "metadata": {},
   "outputs": [],
   "source": [
    "def extrair_informacoes(documento, x, y, w, h):\n",
    "    \n",
    "    # Carregar a imagem\n",
    "    imagem = cv2.imread(\"cnh.png\", 0)  # 0 para carregar em escala de cinza\n",
    "\n",
    "    # Aplicar a limiarização\n",
    "    ret, thresholded = cv2.threshold(imagem, 80, 255, cv2.THRESH_BINARY)\n",
    "\n",
    "    # Suavização para remover ruído\n",
    "    imagem_borrada = cv2.GaussianBlur(thresholded, (3, 3), 0)\n",
    "\n",
    "    # Cortar a região de interesse\n",
    "    roi = imagem_borrada[y:y+h, x:x+w]\n",
    "\n",
    "    # Salvar a imagem da ROI\n",
    "    caminho_saida = f\"./informacoes/{documento}.png\"\n",
    "    cv2.imshow(documento, roi)\n",
    "    cv2.imwrite(caminho_saida, roi)\n",
    "    cv2.waitKey(0)\n",
    "    cv2.destroyAllWindows()\n",
    "\n",
    "    # Carregar a imagem da ROI para OCR\n",
    "    imagem_roi = Image.open(caminho_saida)\n",
    "\n",
    "    # Usa o pytesseract para realizar OCR na imagem\n",
    "    texto = pytesseract.image_to_string(imagem_roi)\n",
    "\n",
    "    return texto"
   ]
  },
  {
   "attachments": {},
   "cell_type": "markdown",
   "metadata": {},
   "source": [
    "> Nome"
   ]
  },
  {
   "cell_type": "code",
   "execution_count": 249,
   "metadata": {},
   "outputs": [
    {
     "name": "stdout",
     "output_type": "stream",
     "text": [
      "LINCE DA SILVA\n",
      "\n",
      "\n"
     ]
    }
   ],
   "source": [
    "nome = extrair_informacoes(\"nome\", 160, 140, 200, 34)\n",
    "print(nome)"
   ]
  },
  {
   "attachments": {},
   "cell_type": "markdown",
   "metadata": {},
   "source": [
    "> Número do documento"
   ]
  },
  {
   "cell_type": "code",
   "execution_count": 250,
   "metadata": {},
   "outputs": [
    {
     "name": "stdout",
     "output_type": "stream",
     "text": [
      "00123456789\n",
      "\n"
     ]
    }
   ],
   "source": [
    "num_documento = extrair_informacoes(\"num_documento\", 160, 475, 160, 34)\n",
    "print(num_documento)"
   ]
  },
  {
   "attachments": {},
   "cell_type": "markdown",
   "metadata": {},
   "source": [
    "> RG"
   ]
  },
  {
   "cell_type": "code",
   "execution_count": 251,
   "metadata": {},
   "outputs": [
    {
     "name": "stdout",
     "output_type": "stream",
     "text": [
      "5123223\n",
      "\n"
     ]
    }
   ],
   "source": [
    "rg = extrair_informacoes(\"rg\", 420, 195, 94, 30)\n",
    "print(rg)"
   ]
  },
  {
   "attachments": {},
   "cell_type": "markdown",
   "metadata": {},
   "source": [
    "> CPF"
   ]
  },
  {
   "cell_type": "code",
   "execution_count": 252,
   "metadata": {},
   "outputs": [
    {
     "name": "stdout",
     "output_type": "stream",
     "text": [
      "891.340.611-75\n",
      "\n"
     ]
    }
   ],
   "source": [
    "cpf = extrair_informacoes(\"cpf\", 420, 244, 152, 30)\n",
    "print(cpf)"
   ]
  },
  {
   "attachments": {},
   "cell_type": "markdown",
   "metadata": {},
   "source": [
    "> Data de nascimento"
   ]
  },
  {
   "cell_type": "code",
   "execution_count": 253,
   "metadata": {},
   "outputs": [
    {
     "name": "stdout",
     "output_type": "stream",
     "text": [
      "02/05/2017\n",
      "\n"
     ]
    }
   ],
   "source": [
    "nascimento = extrair_informacoes(\"nascimento\", 600, 244, 120, 30)\n",
    "print(nascimento)"
   ]
  },
  {
   "attachments": {},
   "cell_type": "markdown",
   "metadata": {},
   "source": [
    "> Categoria da habilitação"
   ]
  },
  {
   "cell_type": "code",
   "execution_count": 254,
   "metadata": {},
   "outputs": [
    {
     "name": "stdout",
     "output_type": "stream",
     "text": [
      "\n"
     ]
    }
   ],
   "source": [
    "categoria = extrair_informacoes(\"categoria\", 670, 425, 40, 30)\n",
    "print(categoria)"
   ]
  },
  {
   "attachments": {},
   "cell_type": "markdown",
   "metadata": {},
   "source": [
    "> Data de validade"
   ]
  },
  {
   "cell_type": "code",
   "execution_count": 255,
   "metadata": {},
   "outputs": [
    {
     "name": "stdout",
     "output_type": "stream",
     "text": [
      "02/05/2018\n",
      "\n"
     ]
    }
   ],
   "source": [
    "validade = extrair_informacoes(\"validade\", 410, 480, 120, 28)\n",
    "print(validade)"
   ]
  },
  {
   "attachments": {},
   "cell_type": "markdown",
   "metadata": {},
   "source": [
    "> Data de emissão"
   ]
  },
  {
   "cell_type": "code",
   "execution_count": 256,
   "metadata": {},
   "outputs": [
    {
     "name": "stdout",
     "output_type": "stream",
     "text": [
      "22/10/2013\n",
      "\n"
     ]
    }
   ],
   "source": [
    "emissao = extrair_informacoes(\"emissao\", 580, 824, 120, 30)\n",
    "print(emissao)"
   ]
  },
  {
   "attachments": {},
   "cell_type": "markdown",
   "metadata": {},
   "source": [
    "> Observações"
   ]
  },
  {
   "cell_type": "code",
   "execution_count": 257,
   "metadata": {},
   "outputs": [
    {
     "name": "stdout",
     "output_type": "stream",
     "text": [
      "\n"
     ]
    }
   ],
   "source": [
    "observacoes = extrair_informacoes(\"observacoes\", 160, 570, 160, 34)\n",
    "print(observacoes)"
   ]
  },
  {
   "attachments": {},
   "cell_type": "markdown",
   "metadata": {},
   "source": [
    "## Extraindo dados para JSON"
   ]
  },
  {
   "cell_type": "code",
   "execution_count": 258,
   "metadata": {},
   "outputs": [
    {
     "name": "stdout",
     "output_type": "stream",
     "text": [
      "As informações foram salvas em dados_extraidos.json\n"
     ]
    }
   ],
   "source": [
    "# Criar um dicionário com as informações extraídas\n",
    "dados = {\n",
    "    \"nome\": nome.replace('\\n', ''),\n",
    "    \"num_documento\": num_documento.replace('\\n', ''),\n",
    "    \"rg\": rg.replace('\\n', ''),\n",
    "    \"cpf\": cpf.replace('\\n', ''),\n",
    "    \"nascimento\": nascimento.replace('\\n', ''),\n",
    "    \"categoria\": categoria.replace('\\n', ''),\n",
    "    \"validade\": validade.replace('\\n', ''),\n",
    "    \"emissao\": emissao.replace('\\n', ''),\n",
    "    \"observacoes\": observacoes.replace('\\n', '')\n",
    "}\n",
    "\n",
    "# Salvar o dicionário em um arquivo JSON\n",
    "caminho_json = \"dados_extraidos.json\"\n",
    "with open(caminho_json, \"w\", encoding=\"utf-8\") as json_file:\n",
    "    json.dump(dados, json_file, ensure_ascii=False, indent=4)\n",
    "\n",
    "print(f\"As informações foram salvas em {caminho_json}\")"
   ]
  }
 ],
 "metadata": {
  "kernelspec": {
   "display_name": "Python 3",
   "language": "python",
   "name": "python3"
  },
  "language_info": {
   "codemirror_mode": {
    "name": "ipython",
    "version": 3
   },
   "file_extension": ".py",
   "mimetype": "text/x-python",
   "name": "python",
   "nbconvert_exporter": "python",
   "pygments_lexer": "ipython3",
   "version": "3.8.2"
  },
  "orig_nbformat": 4
 },
 "nbformat": 4,
 "nbformat_minor": 2
}
